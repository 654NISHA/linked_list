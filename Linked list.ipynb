{
 "cells": [
  {
   "cell_type": "markdown",
   "id": "d1380ac7-af93-4344-a931-c7d79ef9cf80",
   "metadata": {},
   "source": [
    "### 1. Define a doubly linked list"
   ]
  },
  {
   "cell_type": "code",
   "execution_count": 1,
   "id": "f32fd46b-e2a0-44b8-9b09-ff4f9cc387e0",
   "metadata": {},
   "outputs": [
    {
     "name": "stdout",
     "output_type": "stream",
     "text": [
      "1 <-> 2 <-> 3 <-> 4 <-> 5 <-> None\n"
     ]
    }
   ],
   "source": [
    "class Node:\n",
    "    def __init__(self, data = None, next = None, prev = None):\n",
    "        self.data = data\n",
    "        self.next = next\n",
    "        self.prev = prev\n",
    "        \n",
    "def traverse(head):\n",
    "    curr = head\n",
    "    while curr:\n",
    "        print(curr.data, end = \" <-> \")\n",
    "        curr = curr.next\n",
    "    print(None)\n",
    "    \n",
    "# Make a nodes\n",
    "head = Node(1)\n",
    "node2 = Node(2)\n",
    "node3 = Node(3)\n",
    "node4 = Node(4)\n",
    "node5 = Node(5)\n",
    "\n",
    "# Make doubly linked list\n",
    "head.next = node2\n",
    "node2.prev = node3\n",
    "node2.next = node3\n",
    "node3.prev = node2\n",
    "node3.next = node4\n",
    "node4.prev = node3\n",
    "node4.next = node5\n",
    "node5.prev = node4\n",
    "\n",
    "#print the linked list\n",
    "traverse(head)"
   ]
  },
  {
   "cell_type": "code",
   "execution_count": 2,
   "id": "0b4dbc1c-efba-44f5-93c9-f35c9351f1ad",
   "metadata": {},
   "outputs": [],
   "source": [
    "class Node:\n",
    "    def __init__(self, data = None, next = None):\n",
    "        self.data = data\n",
    "        self.next = next\n",
    "        \n",
    "    def getData(self):\n",
    "        return self.data\n",
    "    \n",
    "    def setData(self, data):\n",
    "        self.data = data\n",
    "    \n",
    "    def setNext(self, next):\n",
    "        self.next = next\n",
    "        \n",
    "    def getNext(self):\n",
    "        return self.next\n",
    "    "
   ]
  },
  {
   "cell_type": "code",
   "execution_count": 3,
   "id": "18b540ea-49fb-467e-b27e-dcf283d7706d",
   "metadata": {},
   "outputs": [],
   "source": [
    "def traverse(head):\n",
    "    curr = head\n",
    "    while curr:\n",
    "        print(curr.getData(), end = \"->\")\n",
    "        curr = curr.getNext() \n",
    "    print(None)"
   ]
  },
  {
   "cell_type": "markdown",
   "id": "b6f5802f-dceb-46cf-89d5-f3c92507c4b0",
   "metadata": {},
   "source": [
    "### 2.Write a function to reverse a linked list in-place"
   ]
  },
  {
   "cell_type": "code",
   "execution_count": 4,
   "id": "ac3ebcca-9ef1-465a-a137-66c680042b51",
   "metadata": {},
   "outputs": [
    {
     "name": "stdout",
     "output_type": "stream",
     "text": [
      "Given linked list\n",
      "1->2->3->4->5->None\n",
      "Reverse linked list\n",
      "5->4->3->2->1->None\n"
     ]
    }
   ],
   "source": [
    "def reverse(head):\n",
    "    prevptr = None\n",
    "    curr = head\n",
    "     \n",
    "    while curr:\n",
    "        nextptr = curr.getNext() \n",
    "        curr.setNext(prevptr) \n",
    "        prevptr = curr\n",
    "        curr = nextptr\n",
    "        \n",
    "    return prevptr\n",
    "\n",
    "# Make a nodes\n",
    "head = Node(1)\n",
    "node2 = Node(2)\n",
    "node3 = Node(3)\n",
    "node4 = Node(4)\n",
    "node5 = Node(5)\n",
    "\n",
    "# Make a singly linked list\n",
    "head.setNext(node2)\n",
    "node2.setNext(node3)\n",
    "node3.setNext(node4)\n",
    "node4.setNext(node5)\n",
    "\n",
    "# print the result\n",
    "print(\"Given linked list\")\n",
    "traverse(head)\n",
    "new_head = reverse(head)\n",
    "print(\"Reverse linked list\")\n",
    "traverse(new_head)"
   ]
  },
  {
   "cell_type": "markdown",
   "id": "4584f4a5-8c3c-4188-8c25-8959163cace7",
   "metadata": {},
   "source": [
    "### 3.Detect cycle in a linked list"
   ]
  },
  {
   "cell_type": "code",
   "execution_count": 5,
   "id": "8ea501e7-0405-46e1-9814-2b21d2cdad37",
   "metadata": {},
   "outputs": [
    {
     "name": "stdout",
     "output_type": "stream",
     "text": [
      "There is a cycle in a linked list\n"
     ]
    }
   ],
   "source": [
    "def cycle(head):\n",
    "    fast = head\n",
    "    slow = head\n",
    "    if head.getNext() == None:\n",
    "        return False\n",
    "    while fast and fast.getNext():\n",
    "        slow = slow.getNext()\n",
    "        fast = fast.getNext().getNext()\n",
    "        if slow == fast:\n",
    "            return True\n",
    "    return False\n",
    "\n",
    "# Create nodes\n",
    "head = Node(11)\n",
    "node2 = Node(12)\n",
    "node3 = Node(30)\n",
    "node4 = Node(42)\n",
    "node5 = Node(55)\n",
    "\n",
    "# Make linked list\n",
    "head.setNext(node2)\n",
    "node2.setNext(node3)\n",
    "node3.setNext(node4)\n",
    "node4.setNext(node5)\n",
    "node5.setNext(node2)\n",
    "\n",
    "# Drive code\n",
    "if cycle(head) == True:\n",
    "    print(\"There is a cycle in a linked list\")\n",
    "else:\n",
    "    print(\"There is no cycle in a linked list\")"
   ]
  },
  {
   "cell_type": "markdown",
   "id": "5c3a11d2-6573-4aa0-92b7-30dd90c1de42",
   "metadata": {},
   "source": [
    "### 4.Merge two sorted linked list into one"
   ]
  },
  {
   "cell_type": "code",
   "execution_count": 6,
   "id": "5ca4c000-bf70-4423-ab4b-e4aabd9f74ae",
   "metadata": {
    "scrolled": true,
    "tags": []
   },
   "outputs": [
    {
     "name": "stdout",
     "output_type": "stream",
     "text": [
      "First linked list\n",
      "1->3->5->6->None\n",
      "\n",
      "Second linked list\n",
      "2->4->6->8->None\n",
      "\n",
      "Merged two sorted linked list\n",
      "1->2->3->4->5->6->8->None\n"
     ]
    }
   ],
   "source": [
    "def merge(list1_head1, list2_head2):\n",
    "    curr1 = list1_head1\n",
    "    curr2 = list2_head2\n",
    "    dummy = Node()\n",
    "    temp = dummy\n",
    "    while curr1 and curr2:\n",
    "        if curr1.getData() < curr2.getData():\n",
    "            temp.setNext(Node(curr1.getData()))\n",
    "            curr1 = curr1.getNext()\n",
    "        elif curr1.getData() == curr2.getData():\n",
    "            temp.setNext(Node(curr1.getData()))\n",
    "            curr2 = curr2.getNext()\n",
    "            curr1 = curr1.getNext()\n",
    "        else:\n",
    "            temp.setNext(Node(curr2.getData()))\n",
    "            curr2 = curr2.getNext()\n",
    "        temp = temp.getNext()\n",
    "        \n",
    "    while curr1:\n",
    "        temp.setNext(Node(curr1.getData()))\n",
    "        temp = temp.getNext()\n",
    "        curr1 = curr1.getNext()\n",
    "        \n",
    "    while curr2:\n",
    "        temp.setNext(Node(curr2.getData()))\n",
    "        temp = temp.getNext()\n",
    "        curr2 = curr2.getNext()\n",
    "        \n",
    "    return dummy.getNext()\n",
    "\n",
    "# Create 1st linked list of nodes\n",
    "list1_head1 = Node(1)\n",
    "list1_node2 = Node(3)\n",
    "list1_node3 = Node(5)\n",
    "list1_node4 = Node(6)\n",
    "\n",
    "# Create 2nd linked list of nodes\n",
    "list2_head2 = Node(2)\n",
    "list2_node2 = Node(4)\n",
    "list2_node3 = Node(6)\n",
    "list2_node4 = Node(8)\n",
    "\n",
    "# Make 1st linked list\n",
    "list1_head1.setNext(list1_node2)\n",
    "list1_node2.setNext(list1_node3)\n",
    "list1_node3.setNext(list1_node4)\n",
    "\n",
    "# Make 2nd linked list\n",
    "list2_head2.setNext(list2_node2)\n",
    "list2_node2.setNext(list2_node3)\n",
    "list2_node3.setNext(list2_node4)\n",
    "\n",
    "print(\"First linked list\")\n",
    "traverse(list1_head1)\n",
    "print(\"\\nSecond linked list\")\n",
    "traverse(list2_head2)\n",
    "new_head = merge(list1_head1, list2_head2)\n",
    "print(\"\\nMerged two sorted linked list\")\n",
    "traverse(new_head)"
   ]
  },
  {
   "cell_type": "markdown",
   "id": "0a2bd7dd-0c9d-42fa-a1ec-c52f26390d4d",
   "metadata": {},
   "source": [
    "### 5. Write a function to remove nth node from the end in a linked list"
   ]
  },
  {
   "cell_type": "code",
   "execution_count": 10,
   "id": "adc6b782-df2c-4e22-a11a-394ffa6a7763",
   "metadata": {},
   "outputs": [
    {
     "name": "stdout",
     "output_type": "stream",
     "text": [
      "Given linked list\n",
      "11->12->30->42->55->None\n",
      "After removing 2th element from the end\n",
      "11->12->30->55->None\n"
     ]
    }
   ],
   "source": [
    "def removeNthNode(head, k):\n",
    "    dummy = Node()\n",
    "    dummy.setNext(head)\n",
    "    fast = dummy\n",
    "    slow = dummy\n",
    "    \n",
    "    for i in range(k):\n",
    "        fast = fast.getNext()\n",
    "        \n",
    "    while fast.getNext() and fast:\n",
    "        fast = fast.getNext()\n",
    "        slow = slow.getNext()\n",
    "        \n",
    "    slow.setNext(slow.getNext().getNext())\n",
    "    return dummy.getNext()\n",
    "\n",
    "# Create nodes\n",
    "head = Node(11)\n",
    "node2 = Node(12)\n",
    "node3 = Node(30)\n",
    "node4 = Node(42)\n",
    "node5 = Node(55)\n",
    "\n",
    "# Make linked list\n",
    "head.setNext(node2)\n",
    "node2.setNext(node3)\n",
    "node3.setNext(node4)\n",
    "node4.setNext(node5)\n",
    "\n",
    "# print the result\n",
    "print(\"Given linked list\")\n",
    "traverse(head)\n",
    "k = 2\n",
    "print(f\"After removing {k}th element from the end\")\n",
    "new_head = removeNthNode(head, k)\n",
    "traverse(new_head)"
   ]
  },
  {
   "cell_type": "markdown",
   "id": "71825e08-d692-443f-9a15-6cc6d19dec02",
   "metadata": {},
   "source": [
    "### 6.Remove duplicates from a sorted linked list"
   ]
  },
  {
   "cell_type": "code",
   "execution_count": 8,
   "id": "3432e02b-7442-4900-8554-b2d4ce2b1161",
   "metadata": {},
   "outputs": [
    {
     "name": "stdout",
     "output_type": "stream",
     "text": [
      "Given linked list\n",
      "1->2->3->4->4->4->5->None\n",
      "After removing duplicates\n",
      "1->2->3->4->5->None\n"
     ]
    }
   ],
   "source": [
    "def removeDuplicates(head):\n",
    "    curr = head\n",
    "    while curr and curr.getNext():\n",
    "        if curr.getData() == curr.getNext().getData():\n",
    "            curr.setNext(curr.getNext().getNext())\n",
    "        else:\n",
    "            curr = curr.getNext()\n",
    "    return head\n",
    "            \n",
    "# Make nodes\n",
    "head = Node(1)\n",
    "node2 = Node(2)\n",
    "node3 = Node(3)\n",
    "node4 = Node(4)\n",
    "node5 = Node(4)\n",
    "node6 = Node(4)\n",
    "node7 = Node(5)\n",
    "\n",
    "# Make a linked list\n",
    "head.setNext(node2)\n",
    "node2.setNext(node3)\n",
    "node3.setNext(node4)\n",
    "node4.setNext(node5)\n",
    "node5.setNext(node6)\n",
    "node6.setNext(node7)\n",
    "\n",
    "print(\"Given linked list\")\n",
    "traverse(head)\n",
    "new_head = removeDuplicates(head)\n",
    "print(\"After removing duplicates\")\n",
    "removeDuplicates(head)\n",
    "traverse(new_head)"
   ]
  },
  {
   "cell_type": "markdown",
   "id": "1ce65ae2-9172-4dd2-b492-3d742ccc59e4",
   "metadata": {},
   "source": [
    "### 7.Find the intersection of the two linked lists"
   ]
  },
  {
   "cell_type": "code",
   "execution_count": 23,
   "id": "71b48841-7376-4f5c-86d4-61d77797ad4f",
   "metadata": {},
   "outputs": [
    {
     "name": "stdout",
     "output_type": "stream",
     "text": [
      "First linked list\n",
      "1->2->3->4->8->6->9->None\n",
      "Second linked list\n",
      "5->1->6->7->None\n",
      "Intersection of two linked list\n",
      "1->6->None\n"
     ]
    }
   ],
   "source": [
    "def intersection(head1, head2):\n",
    "    curr1 = head1\n",
    "    dummy = Node()\n",
    "    temp = dummy \n",
    "    \n",
    "    while curr1:\n",
    "        curr2 = head2\n",
    "        while curr2:\n",
    "            if curr2.getData() == curr1.getData():\n",
    "                temp.setNext(Node(curr2.getData()))\n",
    "                temp = temp.getNext()\n",
    "                break \n",
    "            curr2 = curr2.getNext()\n",
    "        curr1 = curr1.getNext()\n",
    "        \n",
    "    return dummy.getNext()\n",
    "\n",
    "# Make nodes\n",
    "list1_head1 = Node(1)\n",
    "list1_node2 = Node(2)\n",
    "list1_node3 = Node(3)\n",
    "list1_node4 = Node(4)\n",
    "list1_node5 = Node(8)\n",
    "list1_node6 = Node(6)\n",
    "list1_node7 = Node(9)\n",
    "\n",
    "list2_head2 = Node(5)\n",
    "list2_node2 = Node(1)\n",
    "list2_node3 = Node(6)\n",
    "list2_node4 = Node(7)\n",
    "\n",
    "# Make a linked list\n",
    "list1_head1.setNext(list1_node2)\n",
    "list1_node2.setNext(list1_node3)\n",
    "list1_node3.setNext(list1_node4)\n",
    "list1_node4.setNext(list1_node5)\n",
    "list1_node5.setNext(list1_node6)\n",
    "list1_node6.setNext(list1_node7)\n",
    "\n",
    "# Make another linked list\n",
    "list2_head2.setNext(list2_node2)\n",
    "list2_node2.setNext(list2_node3)\n",
    "list2_node3.setNext(list2_node4)\n",
    "\n",
    "# Drive code\n",
    "print(\"First linked list\")\n",
    "traverse(list1_head1)\n",
    "print(\"Second linked list\")\n",
    "traverse(list2_head2)\n",
    "new_head = intersection(list1_head1, list2_head2)\n",
    "print(\"Intersection of two linked list\")\n",
    "traverse(new_head)"
   ]
  },
  {
   "cell_type": "markdown",
   "id": "8bbee9ab-d870-4ae6-95bd-f2ad9654e0be",
   "metadata": {},
   "source": [
    "### 8. Rotate a linked list by k positions to the right"
   ]
  },
  {
   "cell_type": "code",
   "execution_count": 33,
   "id": "2c603bba-17e9-47ce-9818-27de4da57dcd",
   "metadata": {},
   "outputs": [
    {
     "name": "stdout",
     "output_type": "stream",
     "text": [
      "Linked list\n",
      "1->2->3->4->8->6->9->None\n",
      "After rotating the linked list\n",
      "3->4->8->6->9->1->2->None\n"
     ]
    }
   ],
   "source": [
    "# Take a value of k\n",
    "k = 2\n",
    "\n",
    "def rotate(head, k):\n",
    "    if head and head.getNext() and k == 0:\n",
    "        return \n",
    "    \n",
    "    length = 1\n",
    "    curr = head\n",
    "    while curr.getNext():\n",
    "        curr = curr.getNext()\n",
    "        length += 1\n",
    "        \n",
    "    k = k%length\n",
    "\n",
    "    curr.setNext(head)\n",
    "    \n",
    "    while (k!=0):\n",
    "        curr = curr.getNext()\n",
    "        k -= 1\n",
    "        \n",
    "    head = curr.getNext()    \n",
    "    curr.setNext(None)\n",
    "    return head\n",
    "\n",
    "# Make nodes\n",
    "head = Node(1)\n",
    "node2 = Node(2)\n",
    "node3 = Node(3)\n",
    "node4 = Node(4)\n",
    "node5 = Node(8)\n",
    "node6 = Node(6)\n",
    "node7 = Node(9)\n",
    "\n",
    "# Make a linked list\n",
    "head.setNext(node2)\n",
    "node2.setNext(node3)\n",
    "node3.setNext(node4)\n",
    "node4.setNext(node5)\n",
    "node5.setNext(node6)\n",
    "node6.setNext(node7)\n",
    "\n",
    "# Print the result\n",
    "print(\"Linked list\")\n",
    "traverse(head)\n",
    "new_head = rotate(head, k)\n",
    "print(\"After rotating the linked list\")\n",
    "traverse(new_head)"
   ]
  },
  {
   "cell_type": "markdown",
   "id": "d2845da3-97c5-4e66-9c73-30432bd000fb",
   "metadata": {},
   "source": [
    "### 9.Add Two Numbers Represented by LinkedLists:"
   ]
  },
  {
   "cell_type": "code",
   "execution_count": 5,
   "id": "fe96ab9e-3be9-477b-beba-f99c7911057e",
   "metadata": {},
   "outputs": [
    {
     "name": "stdout",
     "output_type": "stream",
     "text": [
      "First linked list:\n",
      "2->4->3->None\n",
      "Second linked list:\n",
      "5->6->4->None\n",
      "After adding the two linked list:\n",
      "7->0->8->None\n"
     ]
    }
   ],
   "source": [
    "def adding(l1, l2):\n",
    "    dummy = Node()\n",
    "    curr = dummy\n",
    "    carry = 0\n",
    "    \n",
    "    while l1 or l2 or carry:\n",
    "        val1 = l1.getData()\n",
    "        val2 = l2.getData()\n",
    "        val = val1 + val2 + carry\n",
    "        carry = val//10\n",
    "        curr.setNext(Node(val%10))\n",
    "        curr = curr.getNext()\n",
    "        \n",
    "        if l1:\n",
    "            l1 = l1.getNext()\n",
    "        if l2:\n",
    "            l2 = l2.getNext()\n",
    "            \n",
    "    return dummy.getNext()\n",
    "\n",
    "# Make nodes\n",
    "list1_head1 = Node(2)\n",
    "list1_node2 = Node(4)\n",
    "list1_node3 = Node(3)\n",
    "\n",
    "list2_head2 = Node(5)\n",
    "list2_node2 = Node(6)\n",
    "list2_node3 = Node(4)\n",
    "\n",
    "#Make a linked list\n",
    "list1_head1.setNext(list1_node2)\n",
    "list1_node2.setNext(list1_node3)\n",
    "\n",
    "list2_head2.setNext(list2_node2)\n",
    "list2_node2.setNext(list2_node3)\n",
    "\n",
    "# print the result\n",
    "print(\"First linked list:\")\n",
    "traverse(list1_head1)\n",
    "print(\"Second linked list:\")\n",
    "traverse(list2_head2)\n",
    "new_head = adding(list1_head1, list2_head2)\n",
    "print(\"After adding the two linked list:\")\n",
    "traverse(new_head)"
   ]
  },
  {
   "cell_type": "markdown",
   "id": "490a5f93-b4fb-4606-8ab7-341fb42b4110",
   "metadata": {},
   "source": [
    "### 10. Clone a Linked List with next and Random Pointer"
   ]
  },
  {
   "cell_type": "code",
   "execution_count": 9,
   "id": "81574aec-27bd-4bfe-a126-b1ac46119291",
   "metadata": {},
   "outputs": [
    {
     "name": "stdout",
     "output_type": "stream",
     "text": [
      "Original Linked List:\n",
      "Value: 1, Random: 3\n",
      "Value: 2, Random: 1\n",
      "Value: 3, Random: 5\n",
      "Value: 4, Random: 3\n",
      "Value: 5, Random: 2\n",
      "\n",
      "Cloned Linked List:\n",
      "Value: 1, Random: 3\n",
      "Value: 2, Random: 1\n",
      "Value: 3, Random: 5\n",
      "Value: 4, Random: 3\n",
      "Value: 5, Random: 2\n"
     ]
    }
   ],
   "source": [
    "class Node:\n",
    "    def __init__(self, value, next=None, random=None):\n",
    "        self.value = value\n",
    "        self.next = next\n",
    "        self.random = random\n",
    "\n",
    "def cloneLinkedList(head):\n",
    "    if not head:\n",
    "        return None\n",
    "\n",
    "    # Step 1: Create new nodes and insert them after the corresponding original nodes\n",
    "    current = head\n",
    "    while current:\n",
    "        new_node = Node(current.value)\n",
    "        new_node.next = current.next\n",
    "        current.next = new_node\n",
    "        current = new_node.next\n",
    "\n",
    "    # Step 2: Set random pointers for the new nodes\n",
    "    current = head\n",
    "    while current:\n",
    "        if current.random:\n",
    "            current.next.random = current.random.next\n",
    "        current = current.next.next\n",
    "\n",
    "    # Step 3: Separate the original and cloned linked lists\n",
    "    original_head = head\n",
    "    cloned_head = head.next\n",
    "    cloned_current = cloned_head\n",
    "\n",
    "    while original_head:\n",
    "        original_head.next = cloned_current.next\n",
    "        original_head = original_head.next\n",
    "\n",
    "        if original_head:\n",
    "            cloned_current.next = original_head.next\n",
    "            cloned_current = cloned_current.next\n",
    "\n",
    "    return cloned_head\n",
    "\n",
    "def printLinkedList(head):\n",
    "    current = head\n",
    "    while current:\n",
    "        random_value = current.random.value if current.random else None\n",
    "        print(f\"Value: {current.value}, Random: {random_value}\")\n",
    "        current = current.next\n",
    "\n",
    "# Example usage:\n",
    "# Create a linked list with next and random pointers\n",
    "original_head = Node(1)\n",
    "original_node2 = Node(2)\n",
    "original_node3 = Node(3)\n",
    "original_node4 = Node(4)\n",
    "original_node5 = Node(5)\n",
    "\n",
    "original_head.next = original_node2\n",
    "original_head.random = original_node3\n",
    "original_node2.next = original_node3\n",
    "original_node2.random = original_head\n",
    "original_node3.random = original_node5\n",
    "original_node3.next = original_node4\n",
    "original_node4.random = original_node3\n",
    "original_node4.next = original_node5\n",
    "original_node5.random = original_node2\n",
    "\n",
    "print(\"Original Linked List:\")\n",
    "printLinkedList(original_head)\n",
    "\n",
    "# Clone the linked list\n",
    "cloned_head = cloneLinkedList(original_head)\n",
    "\n",
    "print(\"\\nCloned Linked List:\")\n",
    "printLinkedList(cloned_head)\n"
   ]
  },
  {
   "cell_type": "code",
   "execution_count": null,
   "id": "93a39616-ebbd-4362-b2ac-984cdcf204c3",
   "metadata": {},
   "outputs": [],
   "source": []
  }
 ],
 "metadata": {
  "kernelspec": {
   "display_name": "Python 3 (ipykernel)",
   "language": "python",
   "name": "python3"
  },
  "language_info": {
   "codemirror_mode": {
    "name": "ipython",
    "version": 3
   },
   "file_extension": ".py",
   "mimetype": "text/x-python",
   "name": "python",
   "nbconvert_exporter": "python",
   "pygments_lexer": "ipython3",
   "version": "3.10.8"
  }
 },
 "nbformat": 4,
 "nbformat_minor": 5
}
